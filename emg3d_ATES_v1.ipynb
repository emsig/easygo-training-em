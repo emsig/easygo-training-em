{
 "cells": [
  {
   "cell_type": "markdown",
   "id": "5315f483-65d8-4286-b217-5a11fa1368f8",
   "metadata": {},
   "source": [
    "### Modelling with **emg3d** to design a CSEM survey for monitoring an Aquifer Thermal Energy Storage (ATES) site \n",
    "\n",
    "We will use the expected subsurface stratigraphy and related electrical resistivities at the ATES site of TU Delft. \n",
    "\n",
    "For more information on the project, have a look at https://www.push-it-thermalstorage.eu/pilots/delft/.\n",
    "\n",
    "**Adjust the input values to emg3d based on the survey setup you identified as most suitable.**\n",
    "\n",
    "**Setup 1:** Horizontal bipole source combined with 300 m long horizontal receiver line recording horizontal electric field component.\n",
    "\n",
    "**Setup 2:** Horizontal bipole source combined with 300 m long vertical receiver line (in borehole) recording vertical electric field component.\n",
    "\n",
    "**Setup 3:** Vertical bipole source combined with 300 m long vertical receiver line (in borehole) recording vertical electric field component.\n",
    "\n",
    "**Tasks:** \n",
    "- Generate layered background and layered target responses with **empymod**.\n",
    "- Generate 3D layered and target responses with **emg3d** (optional for different hot plume diameters, max. 160 m). Hot plume is approximated to be cubic.\n",
    "- Compare layered background and layered target, and 3D layered target responses.\n",
    "- Look at differences between 3D layered and 3D target responses.\n",
    "\n",
    "\n",
    "**Questions:**\n",
    "- Would you change your survey setup based on the 3D simulation results?\n",
    "- How large must the hot plume be such that you can detect it?"
   ]
  },
  {
   "cell_type": "code",
   "execution_count": null,
   "id": "662df267-3f0d-48d5-8208-66b134993dc7",
   "metadata": {
    "tags": []
   },
   "outputs": [],
   "source": [
    "# Uncomment on Google Colab\n",
    "# %pip install emg3d empymod matplotlib discretize scooby ipympl ipywidgets"
   ]
  },
  {
   "cell_type": "code",
   "execution_count": null,
   "id": "a6d06459-5f58-4854-ad80-6294d2ea7880",
   "metadata": {
    "tags": []
   },
   "outputs": [],
   "source": [
    "import emg3d\n",
    "import empymod\n",
    "import numpy as np\n",
    "import matplotlib.pyplot as plt\n",
    "from matplotlib.colors import LogNorm\n",
    "\n",
    "plt.style.use('bmh')\n",
    "\n",
    "# Comment this out on Google Colab\n",
    "%matplotlib widget"
   ]
  },
  {
   "cell_type": "markdown",
   "id": "03b58d74-1c28-404c-83b6-a8909e05634e",
   "metadata": {},
   "source": [
    "## Layered model responses with suitable survey setup\n",
    "Compute base and target responses with **empymod**."
   ]
  },
  {
   "cell_type": "code",
   "execution_count": null,
   "id": "acda55b6-fc65-426a-878b-44c469ecfa3b",
   "metadata": {
    "tags": []
   },
   "outputs": [],
   "source": [
    "# You can copy/pased your code snippets for your preferred survey setup from empymod_ATES.ipynb here.\n",
    "\n",
    "# source: x0, x1, y0, y1, z0, z1\n",
    "source = [-150, -160, 0, 0, 0, 0]   # x-directed bipole, adjust x-location and length\n",
    "#source = [-100, -100, 0, 0, 0, 100] # z-directed bipole, adjust x-location and length in z-direction\n",
    "\n",
    "# Source frequency\n",
    "frequency_1 = 1\n",
    "\n",
    "# Receiver offsets\n",
    "offsets_1 = np.linspace(1, 300, 300) # 300 m long receiver line\n",
    "\n",
    "# receiver-array: x, y, z, azimuth, dip\n",
    "receivers_1 = [offsets_1, offsets_1*0, 0, 0, 0] # x-directed, Ex response\n",
    "#receivers_1 = [offsets_1*0, offsets_1*0, offsets_1, 0, 90] # z-directed, Ez response\n",
    "\n",
    "# Layer boundaries in m\n",
    "depth = [0, 45, 80, 123, 184] # 5-layer model\n",
    "\n",
    "# Layer resistivities in Ohmm\n",
    "resistivities_base = [2e14, 52.0, 38.0, 26.0, 29.5, 17.5] # base incl. air\n",
    "resistivities_target = [2e14, 52.0, 38.0, 26.0, 13.1, 17.5] # adjust target resistivity (second last), now: aquifer +50 °Celsius\n",
    "\n",
    "# define the input that stays the same for all models\n",
    "inp = {\n",
    "    'src': source,\n",
    "    'rec': receivers_1,\n",
    "    'depth': depth,\n",
    "    'freqtime': frequency_1,\n",
    "    'srcpts': 5,  # Models the finite-length source as 5 point sources with Gaussian Quadrature\n",
    "    'htarg': {'pts_per_dec': -1},  # Faster computation\n",
    "    'verb': 1,\n",
    "}\n",
    "\n",
    "resp_E_base = empymod.bipole(res=resistivities_base, **inp)\n",
    "resp_E_target = empymod.bipole(res=resistivities_target, **inp)"
   ]
  },
  {
   "cell_type": "markdown",
   "id": "ae8240e3-6356-4b7a-8c09-dc39c9e19938",
   "metadata": {},
   "source": [
    "## 3D target response with emg3d\n",
    "\n",
    "We use a cubic shape for the hot plume.\n",
    "\n",
    "Maximum diameter with + 50 °C after two years: 160 m."
   ]
  },
  {
   "cell_type": "markdown",
   "id": "fd7a928a-9366-4eae-9429-6c93e77eada3",
   "metadata": {},
   "source": [
    "Create the mesh:"
   ]
  },
  {
   "cell_type": "code",
   "execution_count": null,
   "id": "51466f6c-acc0-4dbe-b6fd-cfd2f41e0824",
   "metadata": {
    "tags": []
   },
   "outputs": [],
   "source": [
    "grid = emg3d.construct_mesh(\n",
    "    center=(0,0,0),   # Center of wanted grid\n",
    "    frequency=1,  # Frequency we will use the grid for\n",
    "    properties=25,         # Reference resistivity\n",
    "    domain=[-1280, 1280],   # Domain in which we want precise results\n",
    "    center_on_edge=True,\n",
    "    min_width_limits = 40,\n",
    ")\n",
    " \n",
    "grid  # mesh info\n",
    "#grid.plot_grid() # plotting the grid"
   ]
  },
  {
   "cell_type": "markdown",
   "id": "332fefc0-0b78-4849-a8ec-05f95c8d646c",
   "metadata": {},
   "source": [
    "Introduce layers, cubic hot plume anomaly and assign resistivities:"
   ]
  },
  {
   "cell_type": "code",
   "execution_count": null,
   "id": "cd97c9ff-571f-4fa2-a0ce-d83b9e31b1f9",
   "metadata": {
    "tags": []
   },
   "outputs": [],
   "source": [
    "res = np.ones(grid.shape_cells)\n",
    "\n",
    "# Layered base model:\n",
    "# resistivities [2e14, 52.0, 38.0, 26.0, 29.5, 17.5]\n",
    "# depth [0, 45, 80, 123, 184]\n",
    "res[:, :, grid.cell_centers_z > 0] = 2e8 # air resistivity\n",
    "res[:, :, (grid.cell_centers_z > -45) & (grid.cell_centers_z <= 0)] = 52.0 # first layer depths and resistivity\n",
    "res[:, :, (grid.cell_centers_z > -80) & (grid.cell_centers_z <= -45)] = 38.0 # second layer depths and resistivity\n",
    "res[:, :, (grid.cell_centers_z > -123) & (grid.cell_centers_z <= -80)] = 26.0 # third layer depths and resistivity\n",
    "res[:, :, (grid.cell_centers_z > -184) & (grid.cell_centers_z <= -123)] = 29.5 # auifer layer depths and resistivity\n",
    "res[:, :, grid.cell_centers_z <= -184] = 17.5 # resistivity of half space below\n",
    "\n",
    "# Layered base model\n",
    "model_base = emg3d.Model(grid, property_x=res, mapping='Resistivity')\n",
    "\n",
    "# 3D target model\n",
    "res3 = res\n",
    "res3 = res3.ravel('F')\n",
    "\n",
    "# Insert cubic hot plume in reservoir layer with 160 m diameter, centered at zero.\n",
    "xx = (grid.cell_centers[:, 0] >= -80) & (grid.cell_centers[:, 0] <= 80)\n",
    "yy = abs(grid.cell_centers[:, 1]) <= 80\n",
    "zz = (grid.cell_centers[:, 2] > -184) & (grid.cell_centers[:, 2] <= -123)\n",
    "\n",
    "res3[xx*yy*zz] = 13.1  # Target resistivity\n",
    "\n",
    "model_target = emg3d.Model(grid, property_x=res3, mapping='Resistivity') # Insert traget resistivity in model\n",
    "\n",
    "# plot the model with the 3D target\n",
    "grid.plot_3d_slicer(model1.property_x, pcolor_opts={'norm': LogNorm(vmin=10, vmax=60)},\n",
    "    zlim = [-300, 0],\n",
    "    xlim = [-1280, 1280],\n",
    "    ylim = [-1280, 1280])\n",
    "plt.gcf().canvas.capture_scroll = True"
   ]
  },
  {
   "cell_type": "markdown",
   "id": "77883350-20b8-43d4-9d21-3855e197723c",
   "metadata": {},
   "source": [
    "Generate the source field with a certain frequency:"
   ]
  },
  {
   "cell_type": "code",
   "execution_count": null,
   "id": "4d98cc67-bacc-4c68-912c-37946294b229",
   "metadata": {
    "tags": []
   },
   "outputs": [],
   "source": [
    "sfield = emg3d.fields.get_source_field(grid, source=(-150, -160, 0, 0, 0, 0), frequency=frequency_1) # example is x-directed dipole source"
   ]
  },
  {
   "cell_type": "markdown",
   "id": "c9f38c80-29d7-40ca-b779-100ab9971bf6",
   "metadata": {},
   "source": [
    "Call **emg3d** to solve for the electric field components:"
   ]
  },
  {
   "cell_type": "code",
   "execution_count": null,
   "id": "ef4b2aa4-aa63-46ec-9bdc-aefa609ee6b4",
   "metadata": {
    "tags": []
   },
   "outputs": [],
   "source": [
    "# layered base\n",
    "efield3D_lay = emg3d.solve(model_base, sfield, verb=2)\n",
    "# 3D target\n",
    "efield3D_target = emg3d.solve(model_target, sfield, verb=2)"
   ]
  },
  {
   "cell_type": "markdown",
   "id": "9e7f098f-b43c-4d38-98c6-0635d2bc6b2f",
   "metadata": {},
   "source": [
    "Specify receiver line and electric field direction you would get the responses for (the same as for base and layered model):"
   ]
  },
  {
   "cell_type": "code",
   "execution_count": null,
   "id": "d048a89a-0618-46de-b32c-5e09ecb869d8",
   "metadata": {
    "tags": []
   },
   "outputs": [],
   "source": [
    "# choose your survey setup by (un)commenting:\n",
    "\n",
    "# layered base\n",
    "resp_E_base_3D = efield3D_lay.get_receiver((offsets_1, offsets_1*0, 0, 0, 0), 'linear') # x-directed, Ex response\n",
    "#resp_E_base_3D = efield3D_lay.get_receiver((offsets_1*0, offsets_1*0, offsets_1, 0, 90), 'linear') # z-directed, Ez response\n",
    "\n",
    "# 3D target\n",
    "resp_E_target_3D = efield3D_target.get_receiver((offsets_1, offsets_1*0, 0, 0, 0), 'linear') # x-directed, Ex response\n",
    "# WHY DOES Ez in borehole (vertical receiver line) does not give the expected result here?\n",
    "#resp_E_target_3D = efield3D_target.get_receiver((offsets_1*0, offsets_1*0, offsets_1, 0, 90), 'linear') # z-directed, Ez response"
   ]
  },
  {
   "cell_type": "markdown",
   "id": "3655d7b6-e1ff-48e6-afc5-56200eeb08fc",
   "metadata": {},
   "source": [
    "Plot your results along the receiver line:"
   ]
  },
  {
   "cell_type": "code",
   "execution_count": null,
   "id": "4ad6e277-2c97-40a5-a5ef-be7d7733bd2a",
   "metadata": {
    "tags": []
   },
   "outputs": [],
   "source": [
    "# Plot it\n",
    "fig3, (ax31, ax32) = plt.subplots(1, 2, figsize=(10, 5), sharex=True)\n",
    "\n",
    "fig3.suptitle(\"Base vs layered target vs 3D target\")\n",
    "\n",
    "ax31.plot(offsets_1, resp_E_base.amp(), 'k', label='background')\n",
    "ax31.plot(offsets_1, resp_E_target.amp(), 'C0-', label='1D target empymod')\n",
    "ax31.plot(offsets_1, resp_E_base_3D.amp()/10, 'y--', label='background emg3d') # scale your emg3d amplitues by the source length\n",
    "ax31.plot(offsets_1, resp_E_target_3D.amp()/10, 'C1--', label='3D target emg3d') # scale your emg3d amplitues by the source length\n",
    "ax31.set_yscale('log')\n",
    "ax31.set_title('|E| (V/m)')\n",
    "ax31.legend()\n",
    "\n",
    "ax32.set_title('Phase (E) (°)')\n",
    "ax32.plot(offsets_1, resp_E_base.pha(deg=True), 'k')\n",
    "ax32.plot(offsets_1, resp_E_target.pha(deg=True), 'C0-')\n",
    "ax32.plot(offsets_1, resp_E_base_3D.pha(deg=True), 'y--')\n",
    "ax32.plot(offsets_1, resp_E_target_3D.pha(deg=True), 'C1--')\n",
    "\n",
    "for ax in [ax31, ax32]:\n",
    "    ax.set_xlabel('Offset (m)') # for plotting Ex at a horizontal receiver line\n",
    "    #ax.set_xlabel('Depth (m)') # for plotting Ez in borehole"
   ]
  },
  {
   "cell_type": "markdown",
   "id": "2b712426-9898-499d-b207-3d7b2be1c900",
   "metadata": {},
   "source": [
    "Plot the **emg3d** response in the entire domain:"
   ]
  },
  {
   "cell_type": "code",
   "execution_count": null,
   "id": "fea2e212-8adc-4d8b-8728-d73f581f0b85",
   "metadata": {
    "tags": []
   },
   "outputs": [],
   "source": [
    "grid.plot_3d_slicer(\n",
    "        efield3D_target.fx.ravel('F'), view='abs', v_type='Ex',\n",
    "        pcolor_opts={'norm': LogNorm(vmin=1e-15)},\n",
    ")\n",
    "plt.gcf().canvas.capture_scroll = True"
   ]
  },
  {
   "cell_type": "markdown",
   "id": "ad63fd72-181d-4b4d-8053-e72d96fada94",
   "metadata": {},
   "source": [
    "Plot the **emg3d** response in the inner domain:"
   ]
  },
  {
   "cell_type": "code",
   "execution_count": null,
   "id": "1e7b4150-6a0d-42ae-b374-05011daf2763",
   "metadata": {
    "tags": []
   },
   "outputs": [],
   "source": [
    "grid.plot_3d_slicer(\n",
    "        efield3D_target.fx.ravel('F'), view='abs', v_type='Ex',\n",
    "        pcolor_opts={'norm': LogNorm(vmin=1e-13, vmax = 1e-4)},\n",
    "        zlim = [-300, 0],\n",
    "        xlim = [-1280, 1280],\n",
    "        ylim = [-1280, 1280]\n",
    ")   \n",
    "plt.gcf().canvas.capture_scroll = True"
   ]
  },
  {
   "cell_type": "markdown",
   "id": "9973ce70-65c1-4b7d-8766-8d8f0f4a8b44",
   "metadata": {},
   "source": [
    "Plot the relative **emg3d** response differences between layered baground and 3D target in the inner domain:"
   ]
  },
  {
   "cell_type": "code",
   "execution_count": null,
   "id": "ad765cd8-6554-4f35-aaf5-3949ad62c92e",
   "metadata": {
    "tags": []
   },
   "outputs": [],
   "source": [
    "grid.plot_3d_slicer(\n",
    "        abs(efield3D_target.fx.ravel('F')-efield3D_lay.fx.ravel('F')), view='abs', v_type='Ex',\n",
    "        pcolor_opts={'norm': LogNorm(vmin=1e-13, vmax = 1e-4)},\n",
    "        zlim = [-300, 0],\n",
    "        xlim = [-1280, 1280],\n",
    "        ylim = [-1280, 1280]\n",
    ")   \n",
    "plt.gcf().canvas.capture_scroll = True"
   ]
  },
  {
   "cell_type": "code",
   "execution_count": null,
   "id": "99c7f808-98bb-4140-9a30-5c6ec7d0e322",
   "metadata": {
    "tags": []
   },
   "outputs": [],
   "source": [
    "emg3d.Report()"
   ]
  }
 ],
 "metadata": {
  "kernelspec": {
   "display_name": "Python 3 (ipykernel)",
   "language": "python",
   "name": "python3"
  },
  "language_info": {
   "codemirror_mode": {
    "name": "ipython",
    "version": 3
   },
   "file_extension": ".py",
   "mimetype": "text/x-python",
   "name": "python",
   "nbconvert_exporter": "python",
   "pygments_lexer": "ipython3",
   "version": "3.13.5"
  }
 },
 "nbformat": 4,
 "nbformat_minor": 5
}
