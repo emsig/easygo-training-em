{
 "cells": [
  {
   "cell_type": "markdown",
   "id": "5315f483-65d8-4286-b217-5a11fa1368f8",
   "metadata": {},
   "source": [
    "<img src=\"https://www.push-it-thermalstorage.eu/wp-content/uploads/2023/11/newlofo.png\" width=\"400\" alt=\"Logo PUSH-IT\" title=\"Logo PUSH-IT\">\n",
    "\n",
    "# Design a CSEM survey for monitoring an Aquifer Thermal Energy Storage (ATES) site (II)\n",
    "\n",
    "## (II) Modelling with **emg3d**: 3D\n",
    "\n",
    "We will use the expected subsurface stratigraphy and related electrical resistivities at the ATES site of TU Delft. \n",
    "\n",
    "For more information on the project, have a look at https://www.push-it-thermalstorage.eu/pilots/delft/.\n",
    "\n",
    "**Adjust the input values to emg3d based on the survey setup you identified as most suitable.**\n",
    "\n",
    "**Setup 1:** Horizontal bipole source combined with 300 m long horizontal receiver line recording horizontal electric field component.\n",
    "\n",
    "**Setup 2:** Horizontal bipole source combined with 300 m long vertical receiver line (in borehole) recording vertical electric field component.\n",
    "\n",
    "**Setup 3:** Vertical bipole source combined with 300 m long vertical receiver line (in borehole) recording vertical electric field component.\n",
    "\n",
    "**Tasks:** \n",
    "- Generate layered background and layered target responses with **empymod**.\n",
    "- Generate 3D layered and target responses with **emg3d** (optional for different hot plume diameters, max. 160 m). Hot plume is approximated to be cubic.\n",
    "- Compare layered background and layered target, and 3D layered target responses.\n",
    "- Look at differences between 3D layered and 3D target responses.\n",
    "\n",
    "\n",
    "**Questions:**\n",
    "- Would you change your survey setup based on the 3D simulation results?\n",
    "- How large must the hot plume be such that you can detect it?"
   ]
  },
  {
   "cell_type": "code",
   "execution_count": null,
   "id": "662df267-3f0d-48d5-8208-66b134993dc7",
   "metadata": {
    "tags": []
   },
   "outputs": [],
   "source": [
    "# Uncomment on Google Colab\n",
    "# %pip install emg3d matplotlib discretize ipympl"
   ]
  },
  {
   "cell_type": "code",
   "execution_count": null,
   "id": "a6d06459-5f58-4854-ad80-6294d2ea7880",
   "metadata": {
    "tags": []
   },
   "outputs": [],
   "source": [
    "import emg3d\n",
    "import empymod\n",
    "import numpy as np\n",
    "import matplotlib.pyplot as plt\n",
    "from matplotlib.colors import LogNorm\n",
    "\n",
    "plt.style.use('bmh')\n",
    "\n",
    "# Comment this out on Google Colab\n",
    "%matplotlib widget"
   ]
  },
  {
   "cell_type": "markdown",
   "id": "03b58d74-1c28-404c-83b6-a8909e05634e",
   "metadata": {},
   "source": [
    "## Survey setup and layered resistivity model\n",
    "\n",
    "To get a as coarse as possible 3D grid (for speed of computation reasons), we simplify a few things."
   ]
  },
  {
   "cell_type": "code",
   "execution_count": null,
   "id": "8640f489-a274-43dd-b348-464397576f65",
   "metadata": {
    "tags": []
   },
   "outputs": [],
   "source": [
    "# You can copy/pased your code snippets for your preferred survey setup from empymod_ATES.ipynb here.\n",
    "\n",
    "# Source\n",
    "# Having x-directed sources on x-edges helps to have a minimal source signature\n",
    "source = [-190, -210, 0, 0, 0, 0] # x-directed bipole\n",
    "\n",
    "# Source frequency\n",
    "frequency = 1\n",
    "\n",
    "# Receiver offsets\n",
    "offsets = np.linspace(1, 300, 300)  # 300 m long receiver line\n",
    "\n",
    "# receiver-array: x, y, z, azimuth, dip\n",
    "receivers = (offsets, offsets*0, 0, 0, 0)           # x-directed, Ex response\n",
    "#receivers = (offsets*0, offsets*0, -offsets, 0, 90)  # z-directed, Ez response\n",
    "\n",
    "# Layer boundaries\n",
    "# We idealize the depth model here a bit, to have cells of 10m in depth\n",
    "depth = [0, -50, -80, -120, -190]\n",
    "\n",
    "# Layer resistivities in Ohm.m\n",
    "res_target = 13.1\n",
    "resistivities_base = np.array([1e8, 52.0, 38.0, 26.0, 29.5, 17.5]) # base incl. air (lower res, because of 3D modelling)\n",
    "resistivities_target = resistivities_base.copy()\n",
    "resistivities_target[4] = res_target  # adjust target resistivity (second last), now: aquifer +50 °Celsius"
   ]
  },
  {
   "cell_type": "markdown",
   "id": "2109ad48-e8a8-4d5d-b99c-f0e55eea383d",
   "metadata": {},
   "source": [
    "## Layered model responses\n",
    "\n",
    "Compute base and target responses with **empymod**."
   ]
  },
  {
   "cell_type": "code",
   "execution_count": null,
   "id": "e1454349-f105-45e2-845d-bd423a4a633e",
   "metadata": {
    "tags": []
   },
   "outputs": [],
   "source": [
    "# define the input that stays the same for all models\n",
    "inp = {\n",
    "    'src': source,\n",
    "    'rec': receivers,\n",
    "    'depth': depth,\n",
    "    'freqtime': frequency,\n",
    "    'srcpts': 5,  # Models the finite-length source as 5 point sources with Gaussian Quadrature\n",
    "    'htarg': {'pts_per_dec': -1},  # Faster computation\n",
    "    'verb': 1,\n",
    "    'strength': 1,\n",
    "}\n",
    "resp_E_base = empymod.bipole(res=resistivities_base, **inp)\n",
    "resp_E_target = empymod.bipole(res=resistivities_target, **inp)"
   ]
  },
  {
   "attachments": {},
   "cell_type": "markdown",
   "id": "34a0bccf-09fc-44ba-a7d9-7fb8b67b977c",
   "metadata": {},
   "source": [
    "## 3D target response with emg3d\n",
    "\n",
    "We use a cubic shape for the hot plume.\n",
    "\n",
    "Maximum diameter with + 50 °C after two years: 160 m.\n",
    "\n",
    "Create the mesh:"
   ]
  },
  {
   "cell_type": "code",
   "execution_count": null,
   "id": "51466f6c-acc0-4dbe-b6fd-cfd2f41e0824",
   "metadata": {
    "tags": []
   },
   "outputs": [],
   "source": [
    "grid = emg3d.construct_mesh(\n",
    "    center=(0,0,0),                                 # Center of wanted grid\n",
    "    frequency=frequency,                            # Frequency we will use the grid for\n",
    "    properties=[25, 25, 1e8],                       # Reference resistivity\n",
    "    domain=([-350, 350], [-350, 350], [-200, 0]),   # Domain in which we want precise results\n",
    "    center_on_edge=True,\n",
    "    min_width_limits = [20, 20, 10],\n",
    ")\n",
    " \n",
    "grid  # mesh info\n",
    "# grid.plot_grid() # plotting the grid"
   ]
  },
  {
   "cell_type": "markdown",
   "id": "332fefc0-0b78-4849-a8ec-05f95c8d646c",
   "metadata": {},
   "source": [
    "### 3D model: Introduce layers, cubic hot plume anomaly and assign resistivities"
   ]
  },
  {
   "cell_type": "code",
   "execution_count": null,
   "id": "cd97c9ff-571f-4fa2-a0ce-d83b9e31b1f9",
   "metadata": {
    "tags": []
   },
   "outputs": [],
   "source": [
    "# Pre-allocate an array with number of cells corresponding to our grid\n",
    "res = np.ones(grid.shape_cells)\n",
    "\n",
    "# Layered base model: Fill in layered resistivities into our grid\n",
    "dd = np.r_[np.inf, depth, -np.inf]\n",
    "for i in range(len(resistivities_base)):\n",
    "    res[:, :, (grid.cell_centers_z > dd[i+1]) & (grid.cell_centers_z <= dd[i])] = resistivities_base[i]\n",
    "\n",
    "# Create the layered base model\n",
    "model_base = emg3d.Model(grid, property_x=res, mapping='Resistivity')\n",
    "\n",
    "# 3D target model\n",
    "# Insert cubic hot plume in reservoir layer with 160 m diameter, centered at zero.\n",
    "res3 = res.ravel('F')\n",
    "xx = abs(grid.cell_centers[:, 0]) <= 80\n",
    "yy = abs(grid.cell_centers[:, 1]) <= 80\n",
    "zz = (grid.cell_centers[:, 2] > depth[-1]) & (grid.cell_centers[:, 2] <= depth[-2])\n",
    "res3[xx*yy*zz] = res_target  # Target resistivity\n",
    "\n",
    "# Create the target model\n",
    "model_target = emg3d.Model(grid, property_x=res3, mapping='Resistivity')  # Insert traget resistivity in model\n",
    "\n",
    "# Plot/QC the model with the 3D target\n",
    "grid.plot_3d_slicer(\n",
    "    model_target.property_x,\n",
    "    pcolor_opts={'norm': LogNorm(vmin=10, vmax=100)},\n",
    "    xlim=[-350, 350],\n",
    "    ylim=[-350, 350],\n",
    "    zlim=[-300, 20],\n",
    "    zslice=-160,\n",
    ")"
   ]
  },
  {
   "cell_type": "markdown",
   "id": "77883350-20b8-43d4-9d21-3855e197723c",
   "metadata": {},
   "source": [
    "### Generate the source field with a certain frequency"
   ]
  },
  {
   "cell_type": "code",
   "execution_count": null,
   "id": "4d98cc67-bacc-4c68-912c-37946294b229",
   "metadata": {
    "tags": []
   },
   "outputs": [],
   "source": [
    "# Example is x-directed dipole source\n",
    "sfield = emg3d.fields.get_source_field(grid, source=source, frequency=frequency)"
   ]
  },
  {
   "cell_type": "markdown",
   "id": "c9f38c80-29d7-40ca-b779-100ab9971bf6",
   "metadata": {},
   "source": [
    "### Call **emg3d** to solve for the electric field components"
   ]
  },
  {
   "cell_type": "code",
   "execution_count": null,
   "id": "ef4b2aa4-aa63-46ec-9bdc-aefa609ee6b4",
   "metadata": {
    "tags": []
   },
   "outputs": [],
   "source": [
    "# Layered base\n",
    "efield3D_lay = emg3d.solve(model_base, sfield, verb=2)\n",
    "# 3D target\n",
    "efield3D_target = emg3d.solve(model_target, sfield, verb=2)"
   ]
  },
  {
   "cell_type": "markdown",
   "id": "9e7f098f-b43c-4d38-98c6-0635d2bc6b2f",
   "metadata": {},
   "source": [
    "### Extract the receiver responses"
   ]
  },
  {
   "cell_type": "code",
   "execution_count": null,
   "id": "d048a89a-0618-46de-b32c-5e09ecb869d8",
   "metadata": {
    "tags": []
   },
   "outputs": [],
   "source": [
    "# Layered base\n",
    "resp_E_base_3D = efield3D_lay.get_receiver(receivers, 'linear')\n",
    "# 3D target\n",
    "resp_E_target_3D = efield3D_target.get_receiver(receivers, 'linear')"
   ]
  },
  {
   "cell_type": "markdown",
   "id": "3655d7b6-e1ff-48e6-afc5-56200eeb08fc",
   "metadata": {},
   "source": [
    "### Plot your results along the receiver line"
   ]
  },
  {
   "cell_type": "code",
   "execution_count": null,
   "id": "4ad6e277-2c97-40a5-a5ef-be7d7733bd2a",
   "metadata": {
    "tags": []
   },
   "outputs": [],
   "source": [
    "# Plot it\n",
    "fig3, (ax31, ax32) = plt.subplots(1, 2, figsize=(10, 5), sharex=True, constrained_layout=True)\n",
    "\n",
    "fig3.suptitle(\"Base vs layered target vs 3D target\")\n",
    "\n",
    "ax31.set_title('Amplitude |E| (V/m)')\n",
    "ax31.plot(offsets, resp_E_base.amp(), 'k', label='background')\n",
    "ax31.plot(offsets, resp_E_target.amp(), 'C0-', label='1D target empymod')\n",
    "ax31.plot(offsets, resp_E_base_3D.amp(), 'y--', label='background emg3d') # scale your emg3d amplitues by the source length\n",
    "ax31.plot(offsets, resp_E_target_3D.amp(), 'C1--', label='3D target emg3d') # scale your emg3d amplitues by the source length\n",
    "ax31.set_yscale('log')\n",
    "ax31.legend()\n",
    "\n",
    "ax32.set_title('Phase (E) (°)')\n",
    "ax32.plot(offsets, resp_E_base.pha(deg=True), 'k')\n",
    "ax32.plot(offsets, resp_E_target.pha(deg=True), 'C0-')\n",
    "ax32.plot(offsets, resp_E_base_3D.pha(deg=True), 'y--')\n",
    "ax32.plot(offsets, resp_E_target_3D.pha(deg=True), 'C1--')"
   ]
  },
  {
   "cell_type": "markdown",
   "id": "2b712426-9898-499d-b207-3d7b2be1c900",
   "metadata": {},
   "source": [
    "### Plot the **emg3d** response in the entire domain"
   ]
  },
  {
   "cell_type": "code",
   "execution_count": null,
   "id": "c639c483-c1d0-43ac-a13b-182b76ef4555",
   "metadata": {},
   "outputs": [],
   "source": [
    "# Set the field to analyze: surface: Ex; borehole: Ez\n",
    "if receivers[-1] == 0:\n",
    "    field, ftype = 'fx', 'Ex'\n",
    "else:\n",
    "    field, ftype = 'fz', 'Ez'"
   ]
  },
  {
   "cell_type": "code",
   "execution_count": null,
   "id": "fea2e212-8adc-4d8b-8728-d73f581f0b85",
   "metadata": {
    "tags": []
   },
   "outputs": [],
   "source": [
    "grid.plot_3d_slicer(\n",
    "    getattr(efield3D_target, field).ravel('F'),\n",
    "    view='abs',\n",
    "    v_type=ftype,\n",
    "    pcolor_opts={'norm': LogNorm()},\n",
    ")\n",
    "fig = plt.gcf()\n",
    "fig.suptitle(f'Target Model, |{ftype}| (V/m)')"
   ]
  },
  {
   "cell_type": "markdown",
   "id": "ad63fd72-181d-4b4d-8053-e72d96fada94",
   "metadata": {},
   "source": [
    "Plot the **emg3d** response in the inner domain:"
   ]
  },
  {
   "cell_type": "code",
   "execution_count": null,
   "id": "1e7b4150-6a0d-42ae-b374-05011daf2763",
   "metadata": {
    "tags": []
   },
   "outputs": [],
   "source": [
    "grid.plot_3d_slicer(\n",
    "    getattr(efield3D_target, field).ravel('F'),\n",
    "    view='abs',\n",
    "    v_type=ftype,\n",
    "    pcolor_opts={'norm': LogNorm(vmin=1e-9, vmax=1e-2)},\n",
    "    xlim=[-350, 350],\n",
    "    ylim=[-350, 350],\n",
    "    zlim=[-300, 20],\n",
    "    zslice=-160,\n",
    ")\n",
    "fig = plt.gcf()\n",
    "fig.suptitle(f'Target Model, |{ftype}| (V/m)')"
   ]
  },
  {
   "cell_type": "markdown",
   "id": "9973ce70-65c1-4b7d-8766-8d8f0f4a8b44",
   "metadata": {},
   "source": [
    "Plot the relative **emg3d** response differences between layered background and 3D target in the inner domain:"
   ]
  },
  {
   "cell_type": "code",
   "execution_count": null,
   "id": "b663f8ce-6d04-4d47-b777-ab0b80867fe4",
   "metadata": {},
   "outputs": [],
   "source": [
    "diff = abs(getattr(efield3D_target, field).ravel('F') - getattr(efield3D_lay, field).ravel('F'))\n",
    "\n",
    "grid.plot_3d_slicer(\n",
    "    diff,\n",
    "    view='abs',\n",
    "    v_type=ftype,\n",
    "    pcolor_opts={'norm': LogNorm(vmin=1e-7, vmax=1e-4), 'cmap': 'plasma' },\n",
    "    xlim=[-350, 350],\n",
    "    ylim=[-350, 350],\n",
    "    zlim=[-300, 20],\n",
    "    zslice=-160,\n",
    ")\n",
    "fig = plt.gcf()\n",
    "fig.suptitle(f'Target Model - Background, |{ftype}| (V/m)')"
   ]
  },
  {
   "cell_type": "code",
   "execution_count": null,
   "id": "99c7f808-98bb-4140-9a30-5c6ec7d0e322",
   "metadata": {
    "tags": []
   },
   "outputs": [],
   "source": [
    "emg3d.Report()"
   ]
  }
 ],
 "metadata": {
  "kernelspec": {
   "display_name": "Python 3 (ipykernel)",
   "language": "python",
   "name": "python3"
  },
  "language_info": {
   "codemirror_mode": {
    "name": "ipython",
    "version": 3
   },
   "file_extension": ".py",
   "mimetype": "text/x-python",
   "name": "python",
   "nbconvert_exporter": "python",
   "pygments_lexer": "ipython3",
   "version": "3.12.8"
  }
 },
 "nbformat": 4,
 "nbformat_minor": 5
}
