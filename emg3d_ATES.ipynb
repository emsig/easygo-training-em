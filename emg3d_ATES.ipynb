{
 "cells": [
  {
   "cell_type": "markdown",
   "id": "5315f483-65d8-4286-b217-5a11fa1368f8",
   "metadata": {},
   "source": [
    "### Modelling with **emg3d** to design a CSEM survey for monitoring an Aquifer Thermal Energy Storage (ATES) site \n",
    "\n",
    "We will use the expected subsurface stratigraphy and related electrical resistivities at the ATES site of TU Delft. \n",
    "\n",
    "For more information on the project, have a look at https://www.push-it-thermalstorage.eu/pilots/delft/.\n",
    "\n",
    "**Adjust the input values to emg3d based on the survey setup you identified as most suitable.**\n",
    "\n",
    "**Setup 1:** Horizontal bipole source combined with 300 m long horizontal receiver line recording horizontal electric field component.\n",
    "\n",
    "**Setup 2:** Horizontal bipole source combined with 300 m long vertical receiver line (in borehole) recording vertical electric field component.\n",
    "\n",
    "**Setup 3:** Vertical bipole source combined with 300 m long vertical receiver line (in borehole) recording vertical electric field component.\n",
    "\n",
    "**Tasks:** \n",
    "- Generate layered background and layered target responses with **empymod**.\n",
    "- Generate 3D layered and target responses with **emg3d** (optional for different hot plume diameters, max. 160 m). Hot plume is approximated to be cubic.\n",
    "- Compare layered background and layered target, and 3D layered target responses.\n",
    "- Look at differences between 3D layered and 3D target responses.\n",
    "\n",
    "\n",
    "**Questions:**\n",
    "- Would you change your survey setup based on the 3D simulation results?\n",
    "- How large must the hot plume be such that you can detect it?"
   ]
  },
  {
   "cell_type": "code",
   "execution_count": 1,
   "id": "662df267-3f0d-48d5-8208-66b134993dc7",
   "metadata": {
    "tags": []
   },
   "outputs": [],
   "source": [
    "# Uncomment on Google Colab\n",
    "# %pip install emg3d matplotlib discretize ipympl"
   ]
  },
  {
   "cell_type": "code",
   "execution_count": 2,
   "id": "a6d06459-5f58-4854-ad80-6294d2ea7880",
   "metadata": {
    "tags": []
   },
   "outputs": [],
   "source": [
    "import emg3d\n",
    "import empymod\n",
    "import numpy as np\n",
    "import matplotlib.pyplot as plt\n",
    "from matplotlib.colors import LogNorm\n",
    "\n",
    "plt.style.use('bmh')\n",
    "\n",
    "# Comment this out on Google Colab\n",
    "%matplotlib widget"
   ]
  },
  {
   "cell_type": "markdown",
   "id": "03b58d74-1c28-404c-83b6-a8909e05634e",
   "metadata": {},
   "source": [
    "## Layered model responses with suitable survey setup\n",
    "Compute base and target responses with **empymod**."
   ]
  },
  {
   "cell_type": "code",
   "execution_count": 3,
   "id": "acda55b6-fc65-426a-878b-44c469ecfa3b",
   "metadata": {
    "tags": []
   },
   "outputs": [],
   "source": [
    "# You can copy/pased your code snippets for your preferred survey setup from empymod_ATES.ipynb here.\n",
    "\n",
    "# Source\n",
    "source = [-190, -210, 0, 0, 0, 0] # x-directed bipole\n",
    "\n",
    "# Source frequency\n",
    "frequency_1 = 1\n",
    "\n",
    "# Receiver offsets\n",
    "offsets_1 = np.linspace(1, 300, 300)  # 300 m long receiver line\n",
    "\n",
    "# receiver-array: x, y, z, azimuth, dip\n",
    "#receivers_1 = (offsets_1, offsets_1*0, 0, 0, 0) # x-directed, Ex response\n",
    "receivers_1 = (offsets_1*0, offsets_1*0, -offsets_1, 0, 90) # z-directed, Ez response\n",
    "\n",
    "# Layer boundaries\n",
    "depth = [0, -50, -80, -120, -190]\n",
    "\n",
    "# Layer resistivities in Ohm.m\n",
    "res_target = 13.1\n",
    "resistivities_base = [2e14, 52.0, 38.0, 26.0, 29.5, 17.5] # base incl. air\n",
    "resistivities_target = [2e14, 52.0, 38.0, 26.0, res_target, 17.5] # adjust target resistivity (second last), now: aquifer +50 °Celsius\n",
    "\n",
    "# define the input that stays the same for all models\n",
    "inp = {\n",
    "    'src': source,\n",
    "    'rec': receivers_1,\n",
    "    'depth': depth,\n",
    "    'freqtime': frequency_1,\n",
    "    'srcpts': 5,  # Models the finite-length source as 5 point sources with Gaussian Quadrature\n",
    "    'htarg': {'pts_per_dec': -1},  # Faster computation\n",
    "    'verb': 1,\n",
    "    'strength': 1,\n",
    "}\n",
    "resp_E_base = empymod.bipole(res=resistivities_base, **inp)\n",
    "resp_E_target = empymod.bipole(res=resistivities_target, **inp)"
   ]
  },
  {
   "cell_type": "markdown",
   "id": "ae8240e3-6356-4b7a-8c09-dc39c9e19938",
   "metadata": {},
   "source": [
    "## 3D target response with emg3d\n",
    "\n",
    "We use a cubic shape for the hot plume.\n",
    "\n",
    "Maximum diameter with + 50 °C after two years: 160 m."
   ]
  },
  {
   "cell_type": "markdown",
   "id": "fd7a928a-9366-4eae-9429-6c93e77eada3",
   "metadata": {},
   "source": [
    "Create the mesh:"
   ]
  },
  {
   "cell_type": "code",
   "execution_count": 4,
   "id": "51466f6c-acc0-4dbe-b6fd-cfd2f41e0824",
   "metadata": {
    "tags": []
   },
   "outputs": [
    {
     "data": {
      "text/html": [
       "<table>\n",
       "  <tr>\n",
       "    <td style='font-weight: bold; font-size: 1.2em; text-align: center;' colspan='3'>TensorMesh</td>\n",
       "    <td style='font-size: 1.2em; text-align: center;'colspan='4'>409,600 cells</td>\n",
       "  </tr>\n",
       "  <tr>\n",
       "    <th></th>\n",
       "    <th></th>\n",
       "    <th colspan='2' style='padding: 5px 20px 5px 20px;'>MESH EXTENT</th>\n",
       "    <th colspan='2' style='padding: 5px 20px 5px 20px;'>CELL WIDTH</th>\n",
       "    <th style='padding: 5px 20px 5px 20px;'>FACTOR</th>\n",
       "  </tr>\n",
       "  <tr>\n",
       "    <th style='padding: 5px 20px 5px 20px;'>dir</th>\n",
       "    <th style='padding: 5px 20px 5px 20px;'>nC</th>\n",
       "    <th style='padding: 5px 20px 5px 20px;'>min</th>\n",
       "    <th style='padding: 5px 20px 5px 20px;'>max</th>\n",
       "    <th style='padding: 5px 20px 5px 20px;'>min</th>\n",
       "    <th style='padding: 5px 20px 5px 20px;'>max</th>\n",
       "    <th style='padding: 5px 20px 5px 20px;'>max</th>\n",
       "  </tr>\n",
       "  <tr>\n",
       "    <td style='padding: 5px 20px 5px 20px;'>x</td>\n",
       "    <td style='padding: 5px 20px 5px 20px;'>80</td>\n",
       "    <td style='padding: 5px 20px 5px 20px;'>-105,778.94</td>\n",
       "    <td style='padding: 5px 20px 5px 20px;'>105,778.94</td>\n",
       "    <td style='padding: 5px 20px 5px 20px;'>20.00</td>\n",
       "    <td style='padding: 5px 20px 5px 20px;'>29,812.31</td>\n",
       "    <td style='padding: 5px 20px 5px 20px;'>1.39</td>\n",
       "  </tr>\n",
       "  <tr>\n",
       "    <td style='padding: 5px 20px 5px 20px;'>y</td>\n",
       "    <td style='padding: 5px 20px 5px 20px;'>80</td>\n",
       "    <td style='padding: 5px 20px 5px 20px;'>-105,778.94</td>\n",
       "    <td style='padding: 5px 20px 5px 20px;'>105,778.94</td>\n",
       "    <td style='padding: 5px 20px 5px 20px;'>20.00</td>\n",
       "    <td style='padding: 5px 20px 5px 20px;'>29,812.31</td>\n",
       "    <td style='padding: 5px 20px 5px 20px;'>1.39</td>\n",
       "  </tr>\n",
       "  <tr>\n",
       "    <td style='padding: 5px 20px 5px 20px;'>z</td>\n",
       "    <td style='padding: 5px 20px 5px 20px;'>64</td>\n",
       "    <td style='padding: 5px 20px 5px 20px;'>-19,638.31</td>\n",
       "    <td style='padding: 5px 20px 5px 20px;'>102,461.40</td>\n",
       "    <td style='padding: 5px 20px 5px 20px;'>10.00</td>\n",
       "    <td style='padding: 5px 20px 5px 20px;'>28,963.66</td>\n",
       "    <td style='padding: 5px 20px 5px 20px;'>1.39</td>\n",
       "  </tr>\n",
       "</table>\n"
      ],
      "text/plain": [
       "\n",
       "  TensorMesh: 409,600 cells\n",
       "\n",
       "                      MESH EXTENT             CELL WIDTH      FACTOR\n",
       "  dir    nC        min           max         min       max      max\n",
       "  ---   ---  ---------------------------  ------------------  ------\n",
       "   x     80   -105,778.94    105,778.94     20.00 29,812.31    1.39\n",
       "   y     80   -105,778.94    105,778.94     20.00 29,812.31    1.39\n",
       "   z     64    -19,638.31    102,461.40     10.00 28,963.66    1.39\n"
      ]
     },
     "execution_count": 4,
     "metadata": {},
     "output_type": "execute_result"
    }
   ],
   "source": [
    "grid = emg3d.construct_mesh(\n",
    "    center=(0,0,0),   # Center of wanted grid\n",
    "    frequency=frequency_1,  # Frequency we will use the grid for\n",
    "    properties=[25, 25, 1e8],         # Reference resistivity\n",
    "    domain=([-350, 350], [-350, 350], [-200, 0]),   # Domain in which we want precise results\n",
    "    center_on_edge=True,\n",
    "    min_width_limits = [20, 20, 10],\n",
    ")\n",
    " \n",
    "grid  # mesh info\n",
    "#grid.plot_grid() # plotting the grid"
   ]
  },
  {
   "cell_type": "markdown",
   "id": "332fefc0-0b78-4849-a8ec-05f95c8d646c",
   "metadata": {},
   "source": [
    "Introduce layers, cubic hot plume anomaly and assign resistivities:"
   ]
  },
  {
   "cell_type": "code",
   "execution_count": 6,
   "id": "cd97c9ff-571f-4fa2-a0ce-d83b9e31b1f9",
   "metadata": {
    "tags": []
   },
   "outputs": [
    {
     "data": {
      "application/vnd.jupyter.widget-view+json": {
       "model_id": "67a3724a085241eab9c1623bcbb13ded",
       "version_major": 2,
       "version_minor": 0
      },
      "image/png": "[encoded data removed]",
      "text/html": [
       "\n",
       "            <div style=\"display: inline-block;\">\n",
       "                <div class=\"jupyter-widgets widget-label\" style=\"text-align: center;\">\n",
       "                    Figure\n",
       "                </div>\n",
       "                <img src='data:image/png;base64,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' width=640.0/>\n",
       "            </div>\n",
       "        "
      ],
      "text/plain": [
       "Canvas(capture_scroll=True, toolbar=Toolbar(toolitems=[('Home', 'Reset original view', 'home', 'home'), ('Back…"
      ]
     },
     "metadata": {},
     "output_type": "display_data"
    }
   ],
   "source": [
    "res = np.ones(grid.shape_cells)\n",
    "\n",
    "# Layered base model:\n",
    "res[:, :, grid.cell_centers_z > 0] = 2e8 # air resistivity\n",
    "res[:, :, (grid.cell_centers_z > -50) & (grid.cell_centers_z <= 0)] = 54.7 # first layer depths and resistivity\n",
    "res[:, :, (grid.cell_centers_z > -80) & (grid.cell_centers_z <= -50)] = 38.0 # second layer depths and resistivity\n",
    "res[:, :, (grid.cell_centers_z > -120) & (grid.cell_centers_z <= -80)] = 26.0 # third layer depths and resistivity\n",
    "res[:, :, (grid.cell_centers_z > -190) & (grid.cell_centers_z <= -120)] = 29.5 # reservoir layer depths and resistivity\n",
    "res[:, :, grid.cell_centers_z <= -190] = 16.7 # resistivity of half space below\n",
    "\n",
    "# Layered base model\n",
    "model_base = emg3d.Model(grid, property_x=res, mapping='Resistivity')\n",
    "\n",
    "# 3D target model\n",
    "res3 = res.ravel('F')\n",
    "\n",
    "# Insert cubic hot plume in reservoir layer with 160 m diameter, centered at zero.\n",
    "xx = (grid.cell_centers[:, 0] >= -80) & (grid.cell_centers[:, 0] <= 80)\n",
    "yy = abs(grid.cell_centers[:, 1]) <= 80\n",
    "zz = (grid.cell_centers[:, 2] > -190) & (grid.cell_centers[:, 2] <= -120)\n",
    "\n",
    "res3[xx*yy*zz] = res_target  # Target resistivity\n",
    "\n",
    "model_target = emg3d.Model(grid, property_x=res3, mapping='Resistivity')  # Insert traget resistivity in model\n",
    "\n",
    "# plot the model with the 3D target\n",
    "grid.plot_3d_slicer(model_target.property_x, pcolor_opts={'norm': LogNorm(vmin=10, vmax=200)},\n",
    "    zlim = [-400, 100],\n",
    "    xlim = [-500, 500],\n",
    "    ylim = [-500, 500])\n",
    "plt.gcf().canvas.capture_scroll = True"
   ]
  },
  {
   "cell_type": "markdown",
   "id": "77883350-20b8-43d4-9d21-3855e197723c",
   "metadata": {},
   "source": [
    "Generate the source field with a certain frequency:"
   ]
  },
  {
   "cell_type": "code",
   "execution_count": 7,
   "id": "4d98cc67-bacc-4c68-912c-37946294b229",
   "metadata": {
    "tags": []
   },
   "outputs": [],
   "source": [
    "sfield = emg3d.fields.get_source_field(grid, source=source, frequency=frequency_1) # example is x-directed dipole source"
   ]
  },
  {
   "cell_type": "markdown",
   "id": "c9f38c80-29d7-40ca-b779-100ab9971bf6",
   "metadata": {},
   "source": [
    "Call **emg3d** to solve for the electric field components:"
   ]
  },
  {
   "cell_type": "code",
   "execution_count": 8,
   "id": "ef4b2aa4-aa63-46ec-9bdc-aefa609ee6b4",
   "metadata": {
    "tags": []
   },
   "outputs": [
    {
     "name": "stdout",
     "output_type": "stream",
     "text": [
      ":: emg3d :: 4.7e-07; 4(24); 0:00:43; CONVERGED\n",
      ":: emg3d :: 4.9e-07; 4(24); 0:00:42; CONVERGED\n"
     ]
    }
   ],
   "source": [
    "# layered base\n",
    "efield3D_lay = emg3d.solve(model_base, sfield, verb=2)\n",
    "# 3D target\n",
    "efield3D_target = emg3d.solve(model_target, sfield, verb=2)"
   ]
  },
  {
   "cell_type": "markdown",
   "id": "9e7f098f-b43c-4d38-98c6-0635d2bc6b2f",
   "metadata": {},
   "source": [
    "Specify receiver line and electric field direction you would get the responses for (the same as for base and layered model):"
   ]
  },
  {
   "cell_type": "code",
   "execution_count": 9,
   "id": "d048a89a-0618-46de-b32c-5e09ecb869d8",
   "metadata": {
    "tags": []
   },
   "outputs": [],
   "source": [
    "# layered base\n",
    "resp_E_base_3D = efield3D_lay.get_receiver(receivers_1, 'linear')\n",
    "# 3D target\n",
    "resp_E_target_3D = efield3D_target.get_receiver(receivers_1, 'linear')"
   ]
  },
  {
   "cell_type": "markdown",
   "id": "3655d7b6-e1ff-48e6-afc5-56200eeb08fc",
   "metadata": {},
   "source": [
    "Plot your results along the receiver line:"
   ]
  },
  {
   "cell_type": "code",
   "execution_count": null,
   "id": "4ad6e277-2c97-40a5-a5ef-be7d7733bd2a",
   "metadata": {
    "tags": []
   },
   "outputs": [],
   "source": [
    "# Plot it\n",
    "fig3, (ax31, ax32) = plt.subplots(1, 2, figsize=(10, 5), sharex=True)\n",
    "\n",
    "fig3.suptitle(\"Base vs layered target vs 3D target\")\n",
    "\n",
    "ax31.set_title('Amplitude |E| (V/m)')\n",
    "ax31.plot(offsets_1, resp_E_base.amp(), 'k', label='background')\n",
    "ax31.plot(offsets_1, resp_E_target.amp(), 'C0-', label='1D target empymod')\n",
    "ax31.plot(offsets_1, resp_E_base_3D.amp(), 'y--', label='background emg3d') # scale your emg3d amplitues by the source length\n",
    "ax31.plot(offsets_1, resp_E_target_3D.amp(), 'C1--', label='3D target emg3d') # scale your emg3d amplitues by the source length\n",
    "ax31.set_yscale('log')\n",
    "ax31.legend()\n",
    "\n",
    "ax32.set_title('Phase (E) (°)')\n",
    "ax32.plot(offsets_1, resp_E_base.pha(deg=True), 'k')\n",
    "ax32.plot(offsets_1, resp_E_target.pha(deg=True), 'C0-')\n",
    "ax32.plot(offsets_1, resp_E_base_3D.pha(deg=True), 'y--')\n",
    "ax32.plot(offsets_1, resp_E_target_3D.pha(deg=True), 'C1--')"
   ]
  },
  {
   "cell_type": "markdown",
   "id": "2b712426-9898-499d-b207-3d7b2be1c900",
   "metadata": {},
   "source": [
    "Plot the **emg3d** response in the entire domain:"
   ]
  },
  {
   "cell_type": "code",
   "execution_count": null,
   "id": "fea2e212-8adc-4d8b-8728-d73f581f0b85",
   "metadata": {
    "tags": []
   },
   "outputs": [],
   "source": [
    "grid.plot_3d_slicer(\n",
    "    #efield3D_target.fx.ravel('F'), view='abs', v_type='Ex',\n",
    "    efield3D_target.fz.ravel('F'), view='abs', v_type='Ez',\n",
    "    pcolor_opts={'norm': LogNorm()}\n",
    ")\n",
    "plt.gcf().canvas.capture_scroll = True"
   ]
  },
  {
   "cell_type": "markdown",
   "id": "ad63fd72-181d-4b4d-8053-e72d96fada94",
   "metadata": {},
   "source": [
    "Plot the **emg3d** response in the inner domain:"
   ]
  },
  {
   "cell_type": "code",
   "execution_count": null,
   "id": "1e7b4150-6a0d-42ae-b374-05011daf2763",
   "metadata": {
    "tags": []
   },
   "outputs": [],
   "source": [
    "grid.plot_3d_slicer(\n",
    "    #efield3D_target.fx.ravel('F'), view='abs', v_type='Ex',\n",
    "    efield3D_target.fz.ravel('F'), view='abs', v_type='Ez',\n",
    "    xlim=[-350, 350],\n",
    "    ylim=[-350, 350],\n",
    "    zlim=[-200, 20],\n",
    "    pcolor_opts={'norm': LogNorm(vmin=1e-9, vmax=1e-2)}\n",
    ")\n",
    "plt.gcf().canvas.capture_scroll = True"
   ]
  },
  {
   "cell_type": "markdown",
   "id": "9973ce70-65c1-4b7d-8766-8d8f0f4a8b44",
   "metadata": {},
   "source": [
    "Plot the relative **emg3d** response differences between layered background and 3D target in the inner domain:"
   ]
  },
  {
   "cell_type": "code",
   "execution_count": null,
   "id": "b663f8ce-6d04-4d47-b777-ab0b80867fe4",
   "metadata": {},
   "outputs": [],
   "source": [
    "diff = abs(efield3D_target.fz.ravel('F').amp() - efield3D_lay.fz.ravel('F').amp())\n",
    "#diff = 100 * abs(efield3D_target.fx.ravel('F').amp() - efield3D_lay.fx.ravel('F').amp()) / efield3D_lay.fx.ravel('F').amp()\n",
    "\n",
    "grid.plot_3d_slicer(\n",
    "    #efield3D_target.fx.ravel('F')-efield3D_lay.fx.ravel('F'), view='abs', v_type='Ex',\n",
    "    diff, view='abs', v_type='Ez',\n",
    "    xlim=[-350, 350],\n",
    "    ylim=[-350, 350],\n",
    "    zlim=[-200, 0],\n",
    "    zslice=-140,\n",
    "    pcolor_opts={'norm': LogNorm(vmin=1e-7, vmax=1e-4), 'cmap': 'plasma' }\n",
    "    #pcolor_opts={'norm': LogNorm(vmin=1e-1, vmax=1e3), 'cmap': plt.get_cmap(\"OrRd\", 8)}\n",
    ")\n",
    "plt.gcf().canvas.capture_scroll = True"
   ]
  },
  {
   "cell_type": "code",
   "execution_count": null,
   "id": "99c7f808-98bb-4140-9a30-5c6ec7d0e322",
   "metadata": {
    "tags": []
   },
   "outputs": [],
   "source": [
    "emg3d.Report()"
   ]
  }
 ],
 "metadata": {
  "kernelspec": {
   "display_name": "timon",
   "language": "python",
   "name": "timon"
  },
  "language_info": {
   "codemirror_mode": {
    "name": "ipython",
    "version": 3
   },
   "file_extension": ".py",
   "mimetype": "text/x-python",
   "name": "python",
   "nbconvert_exporter": "python",
   "pygments_lexer": "ipython3",
   "version": "3.13.3"
  }
 },
 "nbformat": 4,
 "nbformat_minor": 5
}
