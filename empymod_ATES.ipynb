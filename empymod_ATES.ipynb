{
 "cells": [
  {
   "cell_type": "markdown",
   "id": "3ba0ba0d",
   "metadata": {
    "slideshow": {
     "slide_type": "slide"
    },
    "tags": []
   },
   "source": [
    "## Modelling with **empymod** to design a CSEM survey for monitoring an Aquifer Thermal Energy Storage (ATES) site \n",
    "\n",
    "We will use the expected subsurface stratigraphy and related electrical resistivities at the ATES site of TU Delft. \n",
    "\n",
    "For more information on the project, have a look at https://www.push-it-thermalstorage.eu/pilots/delft .\n",
    "\n",
    "### Adjust the input values to empymod based on your survey setup!\n",
    "- **Setup 1:** Horizontal bipole source combined with 300 m long horizontal receiver line recording horizontal electric field component.\n",
    "- **Setup 2:** Horizontal bipole source combined with 300 m long vertical receiver line (in borehole) recording vertical electric field component.\n",
    "- **Setup 3:** Vertical bipole source combined with 300 m long vertical receiver line (in borehole) recording vertical electric field component.\n",
    "\n",
    "### Tasks\n",
    "- Compare layered background and target (stored water 10 °C warmer, ...,  and 50 °C warmer than base aquifer) responses for varying source locations and source lengths.\n",
    "- Find optimal source location (and length) w.r.t. receiver line for your setup. \n",
    "- Collect and compare your results with the other setups worked on by your group members.\n",
    "\n",
    "### Questions\n",
    "- Where would you place your source and receivers? Why?\n",
    "- Which survey setup would you use to detect and monitor the hot water in the aquifer layer? Why?"
   ]
  },
  {
   "cell_type": "code",
   "execution_count": null,
   "id": "0819c84f-36f8-4637-8700-8a65dd80f739",
   "metadata": {},
   "outputs": [],
   "source": [
    "# Uncomment on Google Colab\n",
    "# %pip install empymod matplotlib ipympl"
   ]
  },
  {
   "cell_type": "code",
   "execution_count": null,
   "id": "e361e20e-96fa-496b-992b-7b103dc2e577",
   "metadata": {
    "tags": []
   },
   "outputs": [],
   "source": [
    "import empymod\n",
    "import numpy as np\n",
    "import matplotlib.pyplot as plt\n",
    "\n",
    "plt.style.use('ggplot')\n",
    "\n",
    "# For interactive figures; comment this out on Google Colab if it doesn't work.\n",
    "%matplotlib ipympl"
   ]
  },
  {
   "cell_type": "code",
   "execution_count": null,
   "id": "d1fd2012-7028-4915-b625-82cec007ceb4",
   "metadata": {
    "tags": []
   },
   "outputs": [],
   "source": [
    "# See https://empymod.emsig.xyz for documentation, or find the\n",
    "# help of each function with (uncomment it and run the cell):\n",
    "# empymod.bipole?"
   ]
  },
  {
   "cell_type": "markdown",
   "id": "e1fc6e96-cc4c-460f-a705-40a9119acbb1",
   "metadata": {},
   "source": [
    "## Temperature (T) - resistivity (ρ) relationship\n",
    "\n",
    "ρ(Thot) = ρ(Tcold) [1 + 0.025(Thot − Tcold)]^(−1)\n",
    "\n",
    "The aquifer layer has a resistivity of 13.8 Ohmm at 14 °C.\n",
    "\n",
    "Calculate the aquifer resistivities after injecting hot water (target). The water can be up to 60 °C warmer than the base aquifer.\n",
    "\n"
   ]
  },
  {
   "cell_type": "code",
   "execution_count": null,
   "id": "a919f5b8-5d9b-40de-a55e-9a56767d9955",
   "metadata": {
    "tags": []
   },
   "outputs": [],
   "source": [
    "# Calculate your target resistivities here:\n"
   ]
  },
  {
   "cell_type": "markdown",
   "id": "c516acc1-72dc-42c2-a157-ecb7192d3a39",
   "metadata": {},
   "source": [
    "## Survey Setup\n",
    "\n",
    "We define a frequency-domain survey to test different setups of source and receiver locations.\n",
    "\n",
    "Choose the options for `source` and `receivers_1` that suit your survey setup by (un)commenting.\n",
    "\n",
    "Test different source locations and lengths to find a source placement that gives you a response from which you can clearly distinguish the target layer from the base model."
   ]
  },
  {
   "cell_type": "code",
   "execution_count": null,
   "id": "4fb72a2a-48d3-43fa-bf14-26d16a06860d",
   "metadata": {
    "tags": []
   },
   "outputs": [],
   "source": [
    "# source: x0, x1, y0, y1, z0, z1\n",
    "#source = [-150, -160, 0, 0, 0, 0]   # x-directed bipole, adjust x-location and length\n",
    "#source = [-100, -100, 0, 0, 0, 100] # z-directed bipole, adjust x-location and length in z-direction\n",
    "\n",
    "# Source frequency\n",
    "frequency_1 = 1\n",
    "\n",
    "# Receiver offsets\n",
    "offsets_1 = np.linspace(1, 300, 300) # 300 m long receiver line\n",
    "\n",
    "# receiver-array: x, y, z, azimuth, dip\n",
    "#receivers_1 = [offsets_1, offsets_1*0, 0, 0, 0] # x-directed, Ex response\n",
    "#receivers_1 = [offsets_1*0, offsets_1*0, offsets_1, 0, 90] # z-directed, Ez response"
   ]
  },
  {
   "cell_type": "markdown",
   "id": "9b5fac4a-d699-46c7-93b8-65922c3ef9d5",
   "metadata": {},
   "source": [
    "## Layered subsurface model\n",
    "\n",
    "Next, we define the resistivity models (base & target):\n",
    "\n",
    "- **base:** layered model before hot water injection\n",
    "- **target:** with hot water in aquifer layer\n",
    "\n",
    "You can define and calculate as many target models corresponding to different aquifer temperatures, as you wish."
   ]
  },
  {
   "cell_type": "code",
   "execution_count": null,
   "id": "00a0ed80-e938-4c9e-968f-c1f9ba37ebd1",
   "metadata": {
    "tags": []
   },
   "outputs": [],
   "source": [
    "# Layer boundaries in m\n",
    "depth = [0, 45, 80, 123, 184] # 5-layer model\n",
    "\n",
    "# Layer resistivities in Ohmm\n",
    "resistivities_base = [2e14, 52.0, 38.0, 26.0, 29.5, 17.5] # base incl. air\n",
    "resistivities_target = [2e14, 52.0, 38.0, 26.0, 13.1, 17.5] # adjust target resistivity (second last), now: aquifer +50 °Celsius\n",
    "\n",
    "# define the input that stays the same for all models\n",
    "inp = {\n",
    "    'src': source,\n",
    "    'rec': receivers_1,\n",
    "    'depth': depth,\n",
    "    'freqtime': frequency_1,\n",
    "    'srcpts': 5,  # Models the finite-length source as 5 point sources with Gaussian Quadrature\n",
    "    'htarg': {'pts_per_dec': -1},  # Faster computation\n",
    "    'verb': 1,\n",
    "}"
   ]
  },
  {
   "cell_type": "markdown",
   "id": "f947ba6d-a468-4bc0-ada4-ac3e01eb4dda",
   "metadata": {},
   "source": [
    "## Computation\n",
    "\n",
    "And finally we compute the electromagnetic responses at receiver locations:"
   ]
  },
  {
   "cell_type": "code",
   "execution_count": null,
   "id": "65dec034-f6df-453b-870a-0af24a73d5a0",
   "metadata": {
    "tags": []
   },
   "outputs": [],
   "source": [
    "resp_E_base = empymod.bipole(res=resistivities_base, **inp)\n",
    "resp_E_target = empymod.bipole(res=resistivities_target, **inp)"
   ]
  },
  {
   "cell_type": "markdown",
   "id": "7e0da4fd-1a09-4948-aaff-4438b87495ca",
   "metadata": {},
   "source": [
    "## Plotting\n",
    "\n",
    "Let’s plot the resulting responses in terms of amplitudes and phases and their differences:"
   ]
  },
  {
   "cell_type": "code",
   "execution_count": null,
   "id": "579857e0-97c1-49c2-8b3a-0c5bbde9d96e",
   "metadata": {
    "tags": []
   },
   "outputs": [],
   "source": [
    "fig1, ((ax11, ax12), (ax13, ax14)) = plt.subplots(2, 2, sharex=True, constrained_layout=True)\n",
    "\n",
    "fig1.suptitle(f'Electric response; freq={frequency_1} Hz')\n",
    "\n",
    "ax11.set_title('|E| (V/m)')\n",
    "ax11.semilogy(offsets_1, resp_E_target.amp(), label='target')\n",
    "ax11.semilogy(offsets_1, resp_E_base.amp(), label='background')\n",
    "ax11.legend()\n",
    "\n",
    "ax12.set_title('Rel. diff. |E| (%)')\n",
    "rel_diff_amp = 100 * (abs(resp_E_target.amp()-resp_E_base.amp()) / abs(resp_E_base.amp()))\n",
    "ax12.plot(offsets_1, rel_diff_amp)\n",
    "\n",
    "ax13.set_title('Phase (E) (°)')\n",
    "ax13.plot(offsets_1, resp_E_target.pha(deg=True))\n",
    "ax13.plot(offsets_1, resp_E_base.pha(deg=True))\n",
    "\n",
    "ax14.set_title(' Diff. Phase (E) (°)')\n",
    "ax14.plot(offsets_1, resp_E_target.pha(deg=True) - resp_E_base.pha(deg=True))\n",
    "\n",
    "for ax in [ax13, ax14]:\n",
    "    ax.set_xlabel('Offset (m)') # for plotting Ex at a horizontal receiver line\n",
    "    #ax.set_xlabel('Depth (m)') # for plotting Ez in borehole"
   ]
  },
  {
   "cell_type": "markdown",
   "id": "1f6217f2-1446-4175-b418-c0b9cc666a7e",
   "metadata": {},
   "source": [
    "### Optional tasks\n",
    "\n",
    "- Plot the resistivity profile of your background and target model.\n",
    "- Compare different frequencies.\n",
    "- Plot the results on a color-coded section for different source offsets.\n",
    "- Come up with your own survey layout idea."
   ]
  },
  {
   "cell_type": "markdown",
   "id": "ce1a0208-a1dc-4061-ae74-df2f3b179f77",
   "metadata": {},
   "source": [
    "---\n",
    "_Note: If time, create an interactive widget for the scenario._\n",
    "\n",
    "    -> install widgets\n",
    "    import ipywidgets as widgets\n",
    "    from ipywidgets import interact\n",
    "\n",
    "---"
   ]
  },
  {
   "cell_type": "code",
   "execution_count": null,
   "id": "07c6941f-02c3-4d60-8296-7e84c8a6c287",
   "metadata": {},
   "outputs": [],
   "source": [
    "empymod.Report()"
   ]
  }
 ],
 "metadata": {
  "celltoolbar": "Geen",
  "kernelspec": {
   "display_name": "Python 3 (ipykernel)",
   "language": "python",
   "name": "python3"
  },
  "language_info": {
   "codemirror_mode": {
    "name": "ipython",
    "version": 3
   },
   "file_extension": ".py",
   "mimetype": "text/x-python",
   "name": "python",
   "nbconvert_exporter": "python",
   "pygments_lexer": "ipython3",
   "version": "3.13.5"
  }
 },
 "nbformat": 4,
 "nbformat_minor": 5
}
